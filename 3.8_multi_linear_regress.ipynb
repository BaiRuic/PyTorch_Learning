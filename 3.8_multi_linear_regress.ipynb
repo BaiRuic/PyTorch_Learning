{
 "cells": [
  {
   "cell_type": "code",
   "execution_count": 6,
   "metadata": {},
   "outputs": [],
   "source": [
    "import torch\n",
    "import torchvision\n",
    "import torchvision.transforms as transforms\n",
    "import matplotlib.pyplot as plt\n",
    "%matplotlib inline\n",
    "import numpy as np "
   ]
  },
  {
   "cell_type": "code",
   "execution_count": 15,
   "metadata": {},
   "outputs": [
    {
     "data": {
      "text/plain": [
       "Text(0, 0.5, 'y=relu(x)')"
      ]
     },
     "execution_count": 15,
     "metadata": {},
     "output_type": "execute_result"
    },
    {
     "data": {
      "image/png": "[encoded data removed]",
      "text/plain": [
       "<Figure size 432x288 with 1 Axes>"
      ]
     },
     "metadata": {
      "needs_background": "light"
     },
     "output_type": "display_data"
    }
   ],
   "source": [
    "x = torch.arange(-8,8,0.1,requires_grad=True)\n",
    "y = x.relu()\n",
    "plt.plot(x.detach().numpy(),y.detach().numpy())\n",
    "plt.xlabel('x')\n",
    "plt.ylabel('y=relu(x)')"
   ]
  },
  {
   "cell_type": "code",
   "execution_count": 16,
   "metadata": {},
   "outputs": [
    {
     "data": {
      "text/plain": [
       "[<matplotlib.lines.Line2D at 0x1d6a0fc4b48>]"
      ]
     },
     "execution_count": 16,
     "metadata": {},
     "output_type": "execute_result"
    },
    {
     "data": {
      "image/png": "[encoded data removed]",
      "text/plain": [
       "<Figure size 432x288 with 1 Axes>"
      ]
     },
     "metadata": {
      "needs_background": "light"
     },
     "output_type": "display_data"
    }
   ],
   "source": [
    "y.sum().backward()\n",
    "xg = x.grad\n",
    "plt.plot(x.detach().numpy(),xg.detach().numpy())"
   ]
  },
  {
   "cell_type": "markdown",
   "metadata": {},
   "source": [
    "# 实现多层感知机"
   ]
  },
  {
   "cell_type": "code",
   "execution_count": 2,
   "metadata": {},
   "outputs": [],
   "source": [
    "# 导入数据\n",
    "# 加载数据\n",
    "def fashion_mnist_dataload(batch_size):\n",
    "    mnist_train = torchvision.datasets.FashionMNIST(root='~/Datasets/FashionMnist', train=True, download=True,transform=transforms.ToTensor())\n",
    "    mnist_test =  torchvision.datasets.FashionMNIST(root='~/Datasets/FashionMnist',train=False, download=True,transform=transforms.ToTensor())\n",
    "    train_iter = torch.utils.data.DataLoader(mnist_train, batch_size=batch_size, shuffle=True, num_workers=0)\n",
    "    test_iter =  torch.utils.data.DataLoader(mnist_test, batch_size=batch_size,shuffle=True, num_workers=0)\n",
    "    return train_iter, test_iter"
   ]
  },
  {
   "cell_type": "code",
   "execution_count": 7,
   "metadata": {},
   "outputs": [],
   "source": [
    "batch_size=256\n",
    "train_iter, test_iter = fashion_mnist_dataload(batch_size)"
   ]
  },
  {
   "cell_type": "code",
   "execution_count": 24,
   "metadata": {},
   "outputs": [],
   "source": [
    "# 定义模型参数\n",
    "num_inputs, num_outputs, num_hidden = 784, 10, 256\n",
    "w1 = torch.normal(0, 0.01,(num_inputs,num_hidden), dtype=torch.float)\n",
    "b1 = torch.zeros((1,num_hidden), dtype=torch.float)\n",
    "w2 = torch.normal(0,0.01,(num_hidden,num_outputs), dtype=torch.float)\n",
    "b2 = torch.zeros((1,num_outputs), dtype=torch.float)\n",
    "\n",
    "params = [w1,w2,b1,b1]\n",
    "for param in params:\n",
    "    param.requires_grad_(requires_grad=True)"
   ]
  },
  {
   "cell_type": "code",
   "execution_count": 10,
   "metadata": {},
   "outputs": [],
   "source": [
    "# 定义激活函数\n",
    "def relu(x):\n",
    "    return torch.max(input=x,other=torch.tensor(0.0))"
   ]
  },
  {
   "cell_type": "code",
   "execution_count": 12,
   "metadata": {},
   "outputs": [],
   "source": [
    "#定义模型\n",
    "def net(x):\n",
    "    x = x.view(-1,num_inputs)\n",
    "    h1 = x.mm(w1) + b1\n",
    "    o1 = relu(h1)\n",
    "    y = o1.mm(w2) + b2\n",
    "    return y "
   ]
  },
  {
   "cell_type": "code",
   "execution_count": 51,
   "metadata": {},
   "outputs": [
    {
     "name": "stdout",
     "output_type": "stream",
     "text": [
      "tensor([[ 0.4455,  0.2010,  0.2996,  0.3113,  0.3656, -0.6516,  0.3247, -0.6779,\n",
      "         -0.0196, -0.4762]], grad_fn=<AddBackward0>)\n"
     ]
    }
   ],
   "source": [
    "# 测试模型\n",
    "for test_x, test_y in train_iter:\n",
    "    test_y_hat = net(test_x[0])\n",
    "    break\n",
    "print(test_y_hat)"
   ]
  },
  {
   "cell_type": "code",
   "execution_count": 13,
   "metadata": {},
   "outputs": [],
   "source": [
    "# 定义损失函数\n",
    "loss = torch.nn.CrossEntropyLoss()"
   ]
  },
  {
   "cell_type": "code",
   "execution_count": 52,
   "metadata": {},
   "outputs": [],
   "source": [
    "# 评估模型的准确度\n",
    "def evaluate_accuracy(data_set,net):\n",
    "    acc_num, n=0, 0\n",
    "    for X,y in data_set:\n",
    "        y_hat = net(X)\n",
    "        acc_num += (y_hat.argmax(dim=1) == y).sum().item()\n",
    "        n += y.shape[0]\n",
    "    return acc_num / n"
   ]
  },
  {
   "cell_type": "code",
   "execution_count": 55,
   "metadata": {},
   "outputs": [],
   "source": [
    "def train_ch3(net, train_iter, test_iter, params, lr, num_epochs, batch_size, loss):\n",
    "    for epoch in range(num_epochs):\n",
    "        train_loss, train_acc, n = 0.0, 0.0, 0\n",
    "        for X,y in train_iter:\n",
    "            # 前向传播\n",
    "            y_hat = net(X)\n",
    "            #计算损失值\n",
    "            l = loss(y_hat,y)\n",
    "            # 反向传播\n",
    "            l.backward()\n",
    "            # 更新梯度\n",
    "            for param in params:\n",
    "                param.data -= lr * param.grad.data / batch_size\n",
    "            # 梯度清零 \n",
    "            for param in params:\n",
    "                param.grad.data.zero_()\n",
    "            n += y.shape[0] # 计算有多少样本 \n",
    "            train_loss += l # 计算着一个epoch 的损失值\n",
    "            train_acc += (y_hat.argmax(dim=1) == y ).sum().item() # 计算这一个epoch的训练集准确率\n",
    "        test_acc = evaluate_accuracy(test_iter,net)\n",
    "        print('num_epochs %d, loss %.4f, train acc %.3f, test acc %.3f'% (epoch + 1, train_loss/num_epochs, train_acc / n, test_acc))"
   ]
  },
  {
   "cell_type": "code",
   "execution_count": 59,
   "metadata": {},
   "outputs": [
    {
     "name": "stdout",
     "output_type": "stream",
     "text": [
      "num_epochs 1, loss 13.4767, train acc 0.634, test acc 0.625\n",
      "num_epochs 2, loss 13.4114, train acc 0.635, test acc 0.626\n",
      "num_epochs 3, loss 13.3486, train acc 0.636, test acc 0.627\n",
      "num_epochs 4, loss 13.2877, train acc 0.637, test acc 0.628\n",
      "num_epochs 5, loss 13.2268, train acc 0.638, test acc 0.629\n",
      "num_epochs 6, loss 13.1713, train acc 0.639, test acc 0.629\n",
      "num_epochs 7, loss 13.1088, train acc 0.639, test acc 0.630\n",
      "num_epochs 8, loss 13.0527, train acc 0.640, test acc 0.630\n",
      "num_epochs 9, loss 12.9977, train acc 0.641, test acc 0.630\n",
      "num_epochs 10, loss 12.9395, train acc 0.642, test acc 0.631\n",
      "num_epochs 11, loss 12.8853, train acc 0.642, test acc 0.631\n",
      "num_epochs 12, loss 12.8306, train acc 0.642, test acc 0.632\n",
      "num_epochs 13, loss 12.7790, train acc 0.643, test acc 0.633\n",
      "num_epochs 14, loss 12.7240, train acc 0.643, test acc 0.634\n",
      "num_epochs 15, loss 12.6752, train acc 0.644, test acc 0.634\n",
      "num_epochs 16, loss 12.6217, train acc 0.645, test acc 0.634\n",
      "num_epochs 17, loss 12.5734, train acc 0.646, test acc 0.635\n",
      "num_epochs 18, loss 12.5224, train acc 0.646, test acc 0.635\n",
      "num_epochs 19, loss 12.4756, train acc 0.647, test acc 0.636\n",
      "num_epochs 20, loss 12.4322, train acc 0.648, test acc 0.637\n"
     ]
    }
   ],
   "source": [
    "# \n",
    "lr = 0.05\n",
    "num_epochs = 20\n",
    "loss = torch.nn.CrossEntropyLoss()\n",
    "train_ch3(net, train_iter, test_iter, params, lr, num_epochs, batch_size, loss)"
   ]
  },
  {
   "cell_type": "code",
   "execution_count": 50,
   "metadata": {},
   "outputs": [
    {
     "name": "stdout",
     "output_type": "stream",
     "text": [
      "10000\n"
     ]
    }
   ],
   "source": [
    "n=0\n",
    "for X, y in test_iter:\n",
    "    n += y.shape[0]\n",
    "    #break\n",
    "print(n) "
   ]
  }
 ],
 "metadata": {
  "kernelspec": {
   "display_name": "Python [conda env:pytorch]",
   "language": "python",
   "name": "conda-env-pytorch-py"
  },
  "language_info": {
   "codemirror_mode": {
    "name": "ipython",
    "version": 3
   },
   "file_extension": ".py",
   "mimetype": "text/x-python",
   "name": "python",
   "nbconvert_exporter": "python",
   "pygments_lexer": "ipython3",
   "version": "3.7.9"
  }
 },
 "nbformat": 4,
 "nbformat_minor": 4
}
