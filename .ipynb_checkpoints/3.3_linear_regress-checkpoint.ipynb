{
 "cells": [
  {
   "cell_type": "code",
   "execution_count": 1,
   "metadata": {},
   "outputs": [],
   "source": [
    "import torch\n",
    "import numpy as np\n",
    "import matplotlib.pyplot as plt\n",
    "%matplotlib inline\n",
    "from IPython import display"
   ]
  },
  {
   "cell_type": "code",
   "execution_count": 2,
   "metadata": {},
   "outputs": [],
   "source": [
    "# 生成数据集\n",
    "num_example = 1000\n",
    "num_input = 2\n",
    "true_w = torch.tensor([2, -3.4], dtype=torch.float32)\n",
    "true_b = torch.tensor(4.2,dtype=torch.float32)\n",
    "features = torch.randn(num_example,num_input, dtype=torch.float32)\n",
    "labels = torch.mv(features, true_w) + true_b + torch.tensor(np.random.normal(0,0.01,size=(1000,)),dtype=torch.float32)"
   ]
  },
  {
   "cell_type": "code",
   "execution_count": 3,
   "metadata": {},
   "outputs": [
    {
     "data": {
      "text/plain": [
       "<matplotlib.collections.PathCollection at 0x1fc4da82608>"
      ]
     },
     "execution_count": 3,
     "metadata": {},
     "output_type": "execute_result"
    },
    {
     "data": {
      "image/png": "[encoded data removed]",
      "text/plain": [
       "<Figure size 432x288 with 1 Axes>"
      ]
     },
     "metadata": {
      "needs_background": "light"
     },
     "output_type": "display_data"
    }
   ],
   "source": [
    "plt.scatter(features[:,0],labels,1)\n",
    "plt.scatter(features[:,1],labels,1)"
   ]
  },
  {
   "cell_type": "code",
   "execution_count": 4,
   "metadata": {},
   "outputs": [],
   "source": [
    "# 试读数据\n",
    "import torch.utils.data as Data\n",
    "batch_size = 10\n",
    "dataset = Data.TensorDataset(features, labels)\n",
    "data_iter = Data.DataLoader(dataset, batch_size, shuffle=True)"
   ]
  },
  {
   "cell_type": "code",
   "execution_count": 6,
   "metadata": {},
   "outputs": [
    {
     "name": "stdout",
     "output_type": "stream",
     "text": [
      "tensor([[-0.6094,  1.5954],\n",
      "        [ 0.7714, -0.0644],\n",
      "        [-0.2875,  2.3637],\n",
      "        [ 0.5872, -0.3438],\n",
      "        [ 0.1493,  0.4230],\n",
      "        [ 1.6854, -0.4975],\n",
      "        [ 1.5685,  1.3896],\n",
      "        [-1.9938, -0.0182],\n",
      "        [-0.5682, -0.5034],\n",
      "        [ 0.7911,  0.4558]]) tensor([-2.4404,  5.9622, -4.3978,  6.5322,  3.0818,  9.2653,  2.6219,  0.2589,\n",
      "         4.7811,  4.2438])\n"
     ]
    }
   ],
   "source": [
    "for X, y in data_iter:\n",
    "    print(X,y)\n",
    "    break"
   ]
  },
  {
   "cell_type": "code",
   "execution_count": 7,
   "metadata": {},
   "outputs": [
    {
     "name": "stdout",
     "output_type": "stream",
     "text": [
      "LinearNet(\n",
      "  (linear): Linear(in_features=2, out_features=1, bias=True)\n",
      ")\n",
      "Sequential(\n",
      "  (0): Linear(in_features=2, out_features=1, bias=True)\n",
      ")\n",
      "Sequential(\n",
      "  (linear): Linear(in_features=2, out_features=1, bias=True)\n",
      ")\n",
      "Sequential(\n",
      "  (linear): Linear(in_features=2, out_features=1, bias=True)\n",
      ")\n"
     ]
    }
   ],
   "source": [
    "# 定义模型 \n",
    "#法1\n",
    "from torch import nn\n",
    "class LinearNet(nn.Module):\n",
    "    def __init__(self, n_feature):\n",
    "        super(LinearNet, self).__init__()\n",
    "        self.linear  = nn.Linear(n_feature,1)\n",
    "    # 定义 前向传播\n",
    "    def forward(self,x):\n",
    "        y = self.linear(x)\n",
    "        return y\n",
    "net_1 = LinearNet(num_input)\n",
    "print(net_1)  # 打印网络的结构\n",
    "\n",
    "# 法2\n",
    "net_2 = nn.Sequential(\n",
    "        nn.Linear(num_input,1)\n",
    "        #此处还可以传入其他层\n",
    "        )\n",
    "print(net_2)  # 打印网络的结构\n",
    "\n",
    "# 法3\n",
    "net_3 = nn.Sequential()\n",
    "net_3.add_module('linear', nn.Linear(num_input, 1))\n",
    "print(net_3)  # 打印网络的结构\n",
    "\n",
    "\n",
    "# 法4\n",
    "from collections import OrderedDict \n",
    "net_4 = nn.Sequential(OrderedDict([\n",
    "            ('linear', nn.Linear(num_input, 1))\n",
    "            # 可以添加其他层\n",
    "            ]))\n",
    "print(net_4)  # 打印网络的结构"
   ]
  },
  {
   "cell_type": "code",
   "execution_count": 8,
   "metadata": {},
   "outputs": [
    {
     "name": "stdout",
     "output_type": "stream",
     "text": [
      "Parameter containing:\n",
      "tensor([[-0.3708,  0.6038]], requires_grad=True)\n",
      "Parameter containing:\n",
      "tensor([-0.3542], requires_grad=True)\n"
     ]
    }
   ],
   "source": [
    "# 查看 模型所有可供学习的参数\n",
    "for param in net_1.parameters():\n",
    "    print(param)\n",
    "    # break"
   ]
  },
  {
   "cell_type": "code",
   "execution_count": 9,
   "metadata": {},
   "outputs": [
    {
     "data": {
      "text/plain": [
       "Parameter containing:\n",
       "tensor([0.], requires_grad=True)"
      ]
     },
     "execution_count": 9,
     "metadata": {},
     "output_type": "execute_result"
    }
   ],
   "source": [
    "# 初始化模型参数\n",
    "from torch.nn import init\n",
    "\n",
    "init.normal_(net_1.linear.weight, mean=0, std=0.01)\n",
    "init.constant_(net_1.linear.bias, val=0)"
   ]
  },
  {
   "cell_type": "code",
   "execution_count": 10,
   "metadata": {},
   "outputs": [],
   "source": [
    "# 定义损失函数\n",
    "loss = nn.MSELoss()"
   ]
  },
  {
   "cell_type": "code",
   "execution_count": 11,
   "metadata": {},
   "outputs": [
    {
     "name": "stdout",
     "output_type": "stream",
     "text": [
      "SGD (\n",
      "Parameter Group 0\n",
      "    dampening: 0\n",
      "    lr: 0.03\n",
      "    momentum: 0\n",
      "    nesterov: False\n",
      "    weight_decay: 0\n",
      ")\n"
     ]
    }
   ],
   "source": [
    "# 定义优化算法\n",
    "import torch.optim as optim\n",
    "\n",
    "optimizer = optim.SGD(net_1.linear.parameters(), lr=0.03)\n",
    "print(optimizer)"
   ]
  },
  {
   "cell_type": "code",
   "execution_count": 12,
   "metadata": {},
   "outputs": [
    {
     "ename": "ModuleAttributeError",
     "evalue": "'Linear' object has no attribute 'subnet1'",
     "output_type": "error",
     "traceback": [
      "\u001b[1;31m---------------------------------------------------------------------------\u001b[0m",
      "\u001b[1;31mModuleAttributeError\u001b[0m                      Traceback (most recent call last)",
      "\u001b[1;32m<ipython-input-12-d7a78ef4a9d7>\u001b[0m in \u001b[0;36m<module>\u001b[1;34m\u001b[0m\n\u001b[0;32m      2\u001b[0m optimizer = optim.SGD([\n\u001b[0;32m      3\u001b[0m     \u001b[1;31m# 若对某个参数不使用学习率，则使用默认的学习率\u001b[0m\u001b[1;33m\u001b[0m\u001b[1;33m\u001b[0m\u001b[1;33m\u001b[0m\u001b[0m\n\u001b[1;32m----> 4\u001b[1;33m     \u001b[1;33m{\u001b[0m\u001b[1;34m'params'\u001b[0m\u001b[1;33m:\u001b[0m \u001b[0mnet_1\u001b[0m\u001b[1;33m.\u001b[0m\u001b[0mlinear\u001b[0m\u001b[1;33m.\u001b[0m\u001b[0msubnet1\u001b[0m\u001b[1;33m.\u001b[0m\u001b[0mparameters\u001b[0m\u001b[1;33m(\u001b[0m\u001b[1;33m)\u001b[0m\u001b[1;33m}\u001b[0m\u001b[1;33m,\u001b[0m\u001b[1;33m\u001b[0m\u001b[1;33m\u001b[0m\u001b[0m\n\u001b[0m\u001b[0;32m      5\u001b[0m     \u001b[1;33m{\u001b[0m\u001b[1;34m'params'\u001b[0m\u001b[1;33m:\u001b[0m \u001b[0mnet_1\u001b[0m\u001b[1;33m.\u001b[0m\u001b[0mlinear\u001b[0m\u001b[1;33m.\u001b[0m\u001b[0msubnet1\u001b[0m\u001b[1;33m.\u001b[0m\u001b[0mparameters\u001b[0m\u001b[1;33m(\u001b[0m\u001b[1;33m)\u001b[0m\u001b[1;33m,\u001b[0m\u001b[1;34m'lr'\u001b[0m\u001b[1;33m:\u001b[0m\u001b[1;36m0.01\u001b[0m\u001b[1;33m}\u001b[0m\u001b[1;33m\u001b[0m\u001b[1;33m\u001b[0m\u001b[0m\n\u001b[0;32m      6\u001b[0m     ], lr=0.03)\n",
      "\u001b[1;32m~\\Anaconda3\\envs\\pytorch\\lib\\site-packages\\torch\\nn\\modules\\module.py\u001b[0m in \u001b[0;36m__getattr__\u001b[1;34m(self, name)\u001b[0m\n\u001b[0;32m    777\u001b[0m                 \u001b[1;32mreturn\u001b[0m \u001b[0mmodules\u001b[0m\u001b[1;33m[\u001b[0m\u001b[0mname\u001b[0m\u001b[1;33m]\u001b[0m\u001b[1;33m\u001b[0m\u001b[1;33m\u001b[0m\u001b[0m\n\u001b[0;32m    778\u001b[0m         raise ModuleAttributeError(\"'{}' object has no attribute '{}'\".format(\n\u001b[1;32m--> 779\u001b[1;33m             type(self).__name__, name))\n\u001b[0m\u001b[0;32m    780\u001b[0m \u001b[1;33m\u001b[0m\u001b[0m\n\u001b[0;32m    781\u001b[0m     \u001b[1;32mdef\u001b[0m \u001b[0m__setattr__\u001b[0m\u001b[1;33m(\u001b[0m\u001b[0mself\u001b[0m\u001b[1;33m,\u001b[0m \u001b[0mname\u001b[0m\u001b[1;33m:\u001b[0m \u001b[0mstr\u001b[0m\u001b[1;33m,\u001b[0m \u001b[0mvalue\u001b[0m\u001b[1;33m:\u001b[0m \u001b[0mUnion\u001b[0m\u001b[1;33m[\u001b[0m\u001b[0mTensor\u001b[0m\u001b[1;33m,\u001b[0m \u001b[1;34m'Module'\u001b[0m\u001b[1;33m]\u001b[0m\u001b[1;33m)\u001b[0m \u001b[1;33m->\u001b[0m \u001b[1;32mNone\u001b[0m\u001b[1;33m:\u001b[0m\u001b[1;33m\u001b[0m\u001b[1;33m\u001b[0m\u001b[0m\n",
      "\u001b[1;31mModuleAttributeError\u001b[0m: 'Linear' object has no attribute 'subnet1'"
     ]
    }
   ],
   "source": [
    "# 不执行！  对不同的层使用不同的学习率    subnet 是自己定义的层的名字\n",
    "optimizer = optim.SGD([\n",
    "    # 若对某个参数不使用学习率，则使用默认的学习率\n",
    "    {'params': net_1.linear.subnet1.parameters()},\n",
    "    {'params': net_1.linear.subnet1.parameters(),'lr':0.01}\n",
    "    ], lr=0.03)"
   ]
  },
  {
   "cell_type": "code",
   "execution_count": 13,
   "metadata": {},
   "outputs": [
    {
     "name": "stdout",
     "output_type": "stream",
     "text": [
      "opoch: 1, loss: 0.000359\n",
      "opoch: 2, loss: 0.000086\n",
      "opoch: 3, loss: 0.000043\n",
      "opoch: 4, loss: 0.000061\n",
      "opoch: 5, loss: 0.000115\n"
     ]
    }
   ],
   "source": [
    "# 训练模型\n",
    "num_epochs = 5\n",
    "for epoch in range(1, num_epochs+1):\n",
    "    for X,y in data_iter:\n",
    "        output = net_1(X)\n",
    "        l = loss(output, y.view(-1,1))\n",
    "        optimizer.zero_grad() # 梯度清零\n",
    "        l.backward()\n",
    "        optimizer.step()\n",
    "    print('opoch: %d, loss: %f' %(epoch,l.item()))"
   ]
  },
  {
   "cell_type": "code",
   "execution_count": 14,
   "metadata": {},
   "outputs": [
    {
     "name": "stdout",
     "output_type": "stream",
     "text": [
      "tensor([ 2.0000, -3.4000]) Parameter containing:\n",
      "tensor([[ 2.0006, -3.3999]], requires_grad=True)\n",
      "tensor(4.2000) Parameter containing:\n",
      "tensor([4.2001], requires_grad=True)\n"
     ]
    }
   ],
   "source": [
    "# 比较真实的权重和 训练出来的权重\n",
    "\n",
    "print(true_w, net_1.linear.weight)\n",
    "print(true_b, net_1.linear.bias)"
   ]
  }
 ],
 "metadata": {
  "kernelspec": {
   "display_name": "Python [conda env:pytorch]",
   "language": "python",
   "name": "conda-env-pytorch-py"
  },
  "language_info": {
   "codemirror_mode": {
    "name": "ipython",
    "version": 3
   },
   "file_extension": ".py",
   "mimetype": "text/x-python",
   "name": "python",
   "nbconvert_exporter": "python",
   "pygments_lexer": "ipython3",
   "version": "3.7.9"
  }
 },
 "nbformat": 4,
 "nbformat_minor": 4
}
