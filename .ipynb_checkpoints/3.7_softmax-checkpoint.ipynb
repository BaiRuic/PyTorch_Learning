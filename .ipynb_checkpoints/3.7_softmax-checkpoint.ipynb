{
 "cells": [
  {
   "cell_type": "code",
   "execution_count": 58,
   "metadata": {},
   "outputs": [],
   "source": [
    "import numpy as np\n",
    "import matplotlib.pyplot as plt\n",
    "%matplotlib inline\n",
    "import random\n",
    "import torch\n",
    "import torchvision\n",
    "import torchvision.transforms as transforms\n",
    "from collections import OrderedDict"
   ]
  },
  {
   "cell_type": "code",
   "execution_count": 59,
   "metadata": {},
   "outputs": [],
   "source": [
    "# 加载数据\n",
    "def fashion_mnist_dataload(batch_size):\n",
    "    mnist_train = torchvision.datasets.FashionMNIST(root='~/Datasets/FashionMnist', train=True, download=True,transform=transforms.ToTensor())\n",
    "    mnist_test =  torchvision.datasets.FashionMNIST(root='~/Datasets/FashionMnist',train=False, download=True,transform=transforms.ToTensor())\n",
    "    train_iter = torch.utils.data.DataLoader(mnist_train, batch_size=batch_size, shuffle=True, num_workers=0)\n",
    "    test_iter =  torch.utils.data.DataLoader(mnist_test, batch_size=batch_size,shuffle=True, num_workers=0)\n",
    "    return train_iter, test_iter"
   ]
  },
  {
   "cell_type": "code",
   "execution_count": 60,
   "metadata": {},
   "outputs": [],
   "source": [
    "batch_size = 256\n",
    "train_iter, test_iter = fashion_mnist_dataload(batch_size)"
   ]
  },
  {
   "cell_type": "code",
   "execution_count": 79,
   "metadata": {},
   "outputs": [],
   "source": [
    "def evaluate_accuracy(data_set,net):\n",
    "    n = 0\n",
    "    acc = 0.0\n",
    "    for X,y in data_set:\n",
    "        acc += (net(X).argmax(dim=1)==y).sum()\n",
    "        n += y.shape[0]\n",
    "    return acc/n"
   ]
  },
  {
   "cell_type": "code",
   "execution_count": 62,
   "metadata": {},
   "outputs": [],
   "source": [
    "# 定义和初始化模型\n",
    "\n",
    "num_inputs = 784\n",
    "num_outputs = 10\n",
    "\n",
    "# dense层\n",
    "class LinearNet(torch.nn.Module):\n",
    "    def __init__(self,num_inputs,num_outputs):\n",
    "        super(LinearNet, self).__init__()\n",
    "        self.linear = torch.nn.Linear(num_inputs,num_outputs)\n",
    "    def forward(self, x):  # x.shape = (batch, 1, 28, 28)\n",
    "        y = self.linear(x.view(x.shape[0], -1))\n",
    "        return y"
   ]
  },
  {
   "cell_type": "code",
   "execution_count": null,
   "metadata": {},
   "outputs": [],
   "source": []
  },
  {
   "cell_type": "code",
   "execution_count": 20,
   "metadata": {},
   "outputs": [],
   "source": [
    "# 定义模型 后面用到\n",
    "# Flatter 层\n",
    "class FlattenLayer(torch.nn.Module):\n",
    "    def __init__(self):\n",
    "        super(FlattenLayer,self).__init__()\n",
    "    def forward(self, x):\n",
    "        return x. view(x.shape[0], -1)"
   ]
  },
  {
   "cell_type": "code",
   "execution_count": 23,
   "metadata": {},
   "outputs": [],
   "source": [
    "net = torch.nn.Sequential(\n",
    "                    OrderedDict([\n",
    "                        ('flatten',FlattenLayer()),\n",
    "                        ('linear', LinearNet(num_inputs,num_outputs))\n",
    "                    ])\n",
    "                )"
   ]
  },
  {
   "cell_type": "code",
   "execution_count": 63,
   "metadata": {},
   "outputs": [],
   "source": [
    "# 实例化模型\n",
    "net = LinearNet(num_inputs, num_outputs)"
   ]
  },
  {
   "cell_type": "code",
   "execution_count": 64,
   "metadata": {},
   "outputs": [
    {
     "name": "stderr",
     "output_type": "stream",
     "text": [
      "C:\\Users\\brc\\Anaconda3\\envs\\pytorch\\lib\\site-packages\\ipykernel_launcher.py:2: UserWarning: nn.init.constant is now deprecated in favor of nn.init.constant_.\n",
      "  \n"
     ]
    },
    {
     "data": {
      "text/plain": [
       "Parameter containing:\n",
       "tensor([0., 0., 0., 0., 0., 0., 0., 0., 0., 0.], requires_grad=True)"
      ]
     },
     "execution_count": 64,
     "metadata": {},
     "output_type": "execute_result"
    }
   ],
   "source": [
    "torch.nn.init.normal_(net.linear.weight, mean=0, std=0.01)\n",
    "torch.nn.init.constant(net.linear.bias, val=0)"
   ]
  },
  {
   "cell_type": "code",
   "execution_count": 77,
   "metadata": {},
   "outputs": [],
   "source": [
    "def train_ch3(net, train_iter, test_iter, loss, num_epochs, batch_size, params=None, lr=None, optimizer=None):\n",
    "    for epoch in range(num_epochs):\n",
    "        train_loss_sum, train_acc_sum ,n= 0.0, 0.0, 0\n",
    "        for X,y in train_iter:\n",
    "            # 正向传播\n",
    "            y_hat = net(X)\n",
    "            # 计算损失值\n",
    "            l = loss(y_hat,y)\n",
    "            # 梯度清零\n",
    "            if optimizer is not None:\n",
    "                optimizer.zero_grad()\n",
    "            elif params is not None and params[0].grad is not None:\n",
    "                for param in params:\n",
    "                    param.grad.data.zero_()\n",
    "            # 反向传播，计算梯度值\n",
    "            l.backward()\n",
    "            # 更新梯度值\n",
    "            if optimizer is not None:\n",
    "                optimizer.step()\n",
    "            else:\n",
    "                for param in params:\n",
    "                    param.data -= lr * param.grad / batch_size\n",
    "            \n",
    "            train_loss_sum += l.item()\n",
    "            train_acc_sum += (y_hat.argmax(dim=1)==y).sum().item()\n",
    "            n += y.shape[0]\n",
    "        test_acc = evaluate_accuracy(test_iter,net)\n",
    "        print('num_epochs %d, loss %.4f, train acc %.3f, test acc %.3f'% (epoch + 1, train_loss_sum / n, train_acc_sum / n, test_acc))\n",
    "            \n",
    "            "
   ]
  },
  {
   "cell_type": "code",
   "execution_count": 80,
   "metadata": {},
   "outputs": [
    {
     "name": "stdout",
     "output_type": "stream",
     "text": [
      "num_epochs 1, loss 0.0022, train acc 0.819, test acc 0.809\n",
      "num_epochs 2, loss 0.0022, train acc 0.822, test acc 0.811\n",
      "num_epochs 3, loss 0.0021, train acc 0.825, test acc 0.814\n",
      "num_epochs 4, loss 0.0021, train acc 0.827, test acc 0.816\n",
      "num_epochs 5, loss 0.0021, train acc 0.828, test acc 0.816\n",
      "num_epochs 6, loss 0.0020, train acc 0.830, test acc 0.818\n"
     ]
    }
   ],
   "source": [
    "epochs = 6\n",
    "loss = torch.nn.CrossEntropyLoss()\n",
    "optimizer = torch.optim.SGD(net.parameters(),lr=0.02)\n",
    "train_ch3(net, train_iter, test_iter, loss, epochs, batch_size,  None, None, optimizer)"
   ]
  }
 ],
 "metadata": {
  "kernelspec": {
   "display_name": "Python [conda env:pytorch]",
   "language": "python",
   "name": "conda-env-pytorch-py"
  },
  "language_info": {
   "codemirror_mode": {
    "name": "ipython",
    "version": 3
   },
   "file_extension": ".py",
   "mimetype": "text/x-python",
   "name": "python",
   "nbconvert_exporter": "python",
   "pygments_lexer": "ipython3",
   "version": "3.7.9"
  }
 },
 "nbformat": 4,
 "nbformat_minor": 4
}
