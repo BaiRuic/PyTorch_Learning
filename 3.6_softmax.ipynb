{
 "cells": [
  {
   "cell_type": "code",
   "execution_count": 78,
   "metadata": {},
   "outputs": [],
   "source": [
    "import numpy as np\n",
    "import torch\n",
    "import matplotlib.pyplot as plt\n",
    "import torchvision\n",
    "import torchvision.transforms as transforms\n",
    "%matplotlib inline\n",
    "\n",
    "import random"
   ]
  },
  {
   "cell_type": "code",
   "execution_count": 79,
   "metadata": {},
   "outputs": [],
   "source": [
    "# 加载数据\n",
    "\n",
    "mnist_train = torchvision.datasets.FashionMNIST(root='~/dataset/FashionMNIST', train=True, download=True, transform=transforms.ToTensor())\n",
    "mnist_test = torchvision.datasets.FashionMNIST(root='~/dataset/FashionMNIST', train=False, download=True, transform=transforms.ToTensor())"
   ]
  },
  {
   "cell_type": "code",
   "execution_count": 80,
   "metadata": {},
   "outputs": [],
   "source": [
    "batch_size=256\n",
    "num_workers=0\n",
    "train_iter = torch.utils.data.DataLoader(mnist_train, batch_size=batch_size, shuffle=True, num_workers=num_workers)\n",
    "test_iter = torch.utils.data.DataLoader(mnist_test, batch_size=batch_size, shuffle=True, num_workers=num_workers)"
   ]
  },
  {
   "cell_type": "code",
   "execution_count": 81,
   "metadata": {},
   "outputs": [
    {
     "data": {
      "text/plain": [
       "(torch.Size([1, 28, 28]), 1)"
      ]
     },
     "execution_count": 81,
     "metadata": {},
     "output_type": "execute_result"
    }
   ],
   "source": [
    "feature,label = mnist_test[5]\n",
    "feature.shape, label"
   ]
  },
  {
   "cell_type": "code",
   "execution_count": 82,
   "metadata": {
    "collapsed": true,
    "jupyter": {
     "outputs_hidden": true
    }
   },
   "outputs": [
    {
     "name": "stdout",
     "output_type": "stream",
     "text": [
      "tensor([[[[0.0000, 0.0000, 0.0000,  ..., 0.0000, 0.0000, 0.0000],\n",
      "          [0.0000, 0.0000, 0.0000,  ..., 0.0000, 0.0000, 0.0000],\n",
      "          [0.0000, 0.0000, 0.0000,  ..., 0.0000, 0.0000, 0.0000],\n",
      "          ...,\n",
      "          [0.0000, 0.0000, 0.0000,  ..., 0.0000, 0.0000, 0.0000],\n",
      "          [0.0000, 0.0000, 0.0000,  ..., 0.0000, 0.0000, 0.0000],\n",
      "          [0.0000, 0.0000, 0.0000,  ..., 0.0000, 0.0000, 0.0000]]],\n",
      "\n",
      "\n",
      "        [[[0.0000, 0.0000, 0.0000,  ..., 0.0000, 0.0000, 0.0000],\n",
      "          [0.0000, 0.0000, 0.0000,  ..., 0.0000, 0.0000, 0.0000],\n",
      "          [0.0000, 0.0000, 0.0000,  ..., 0.0000, 0.0000, 0.0000],\n",
      "          ...,\n",
      "          [0.0000, 0.1020, 0.0000,  ..., 0.1059, 0.2824, 0.0000],\n",
      "          [0.0000, 0.0000, 0.0000,  ..., 0.0000, 0.0000, 0.0000],\n",
      "          [0.0000, 0.0000, 0.0000,  ..., 0.0000, 0.0000, 0.0000]]],\n",
      "\n",
      "\n",
      "        [[[0.0000, 0.0000, 0.0000,  ..., 0.0000, 0.0000, 0.0000],\n",
      "          [0.0000, 0.0000, 0.0000,  ..., 0.0000, 0.0000, 0.0000],\n",
      "          [0.0000, 0.0000, 0.0000,  ..., 0.0000, 0.0000, 0.0000],\n",
      "          ...,\n",
      "          [0.0000, 0.0000, 0.0000,  ..., 0.0000, 0.0000, 0.0000],\n",
      "          [0.0000, 0.0000, 0.0000,  ..., 0.0000, 0.0000, 0.0000],\n",
      "          [0.0000, 0.0000, 0.0000,  ..., 0.0000, 0.0000, 0.0000]]],\n",
      "\n",
      "\n",
      "        ...,\n",
      "\n",
      "\n",
      "        [[[0.0000, 0.0000, 0.0000,  ..., 0.0000, 0.0000, 0.0000],\n",
      "          [0.0000, 0.0000, 0.0000,  ..., 0.0000, 0.0000, 0.0000],\n",
      "          [0.0000, 0.0000, 0.0000,  ..., 0.0000, 0.0000, 0.0000],\n",
      "          ...,\n",
      "          [0.0000, 0.0000, 0.0000,  ..., 0.0000, 0.0000, 0.0000],\n",
      "          [0.0000, 0.0000, 0.0000,  ..., 0.0000, 0.0000, 0.0000],\n",
      "          [0.0000, 0.0000, 0.0000,  ..., 0.0000, 0.0000, 0.0000]]],\n",
      "\n",
      "\n",
      "        [[[0.0000, 0.0000, 0.0000,  ..., 0.0000, 0.0000, 0.0000],\n",
      "          [0.0000, 0.0000, 0.0000,  ..., 0.0000, 0.0000, 0.0000],\n",
      "          [0.0000, 0.0000, 0.0000,  ..., 0.0000, 0.0000, 0.0000],\n",
      "          ...,\n",
      "          [0.0000, 0.0000, 0.0000,  ..., 0.0000, 0.0000, 0.0000],\n",
      "          [0.0000, 0.0000, 0.0000,  ..., 0.0000, 0.0000, 0.0000],\n",
      "          [0.0000, 0.0000, 0.0000,  ..., 0.0000, 0.0000, 0.0000]]],\n",
      "\n",
      "\n",
      "        [[[0.0000, 0.0000, 0.0000,  ..., 0.0000, 0.0000, 0.0000],\n",
      "          [0.0000, 0.0000, 0.0000,  ..., 0.0000, 0.0000, 0.0000],\n",
      "          [0.0000, 0.0000, 0.0000,  ..., 0.0000, 0.0000, 0.0000],\n",
      "          ...,\n",
      "          [0.0000, 0.0000, 0.0000,  ..., 0.0000, 0.0000, 0.0000],\n",
      "          [0.0000, 0.0000, 0.0000,  ..., 0.0000, 0.0000, 0.0000],\n",
      "          [0.0000, 0.0000, 0.0000,  ..., 0.0000, 0.0000, 0.0000]]]]) tensor([5, 8, 4, 9, 6, 3, 2, 7, 7, 2, 9, 0, 8, 4, 4, 2, 8, 8, 3, 8, 2, 2, 5, 9,\n",
      "        2, 7, 2, 4, 4, 7, 3, 2, 7, 5, 5, 6, 0, 5, 8, 5, 5, 3, 6, 8, 1, 9, 8, 8,\n",
      "        6, 7, 9, 8, 1, 5, 3, 7, 4, 9, 2, 7, 8, 5, 8, 1, 1, 7, 7, 1, 4, 7, 2, 6,\n",
      "        7, 8, 0, 4, 5, 4, 2, 6, 0, 8, 1, 1, 4, 5, 5, 8, 3, 6, 9, 7, 3, 4, 3, 3,\n",
      "        7, 5, 7, 3, 0, 1, 1, 0, 1, 5, 5, 0, 4, 4, 4, 3, 6, 2, 8, 7, 7, 1, 9, 8,\n",
      "        7, 7, 7, 5, 6, 4, 6, 3, 6, 4, 0, 6, 6, 9, 6, 4, 4, 6, 8, 2, 7, 3, 7, 6,\n",
      "        3, 9, 3, 3, 9, 8, 8, 6, 9, 5, 1, 1, 3, 0, 1, 3, 6, 8, 0, 5, 3, 1, 7, 6,\n",
      "        3, 1, 2, 3, 6, 6, 5, 1, 1, 4, 1, 6, 4, 3, 8, 2, 8, 6, 2, 7, 6, 1, 1, 5,\n",
      "        9, 3, 2, 4, 6, 0, 2, 3, 7, 2, 3, 3, 5, 1, 4, 8, 2, 9, 1, 9, 6, 7, 1, 9,\n",
      "        1, 2, 4, 1, 9, 2, 4, 5, 9, 2, 6, 9, 7, 0, 8, 4, 4, 6, 9, 1, 9, 9, 9, 9,\n",
      "        5, 7, 7, 7, 4, 7, 8, 5, 0, 8, 5, 3, 1, 7, 1, 0])\n"
     ]
    }
   ],
   "source": [
    "for X,y in train_iter:\n",
    "    print(X,y)\n",
    "    break"
   ]
  },
  {
   "cell_type": "code",
   "execution_count": 2,
   "metadata": {},
   "outputs": [],
   "source": [
    "# 读取数据\n",
    "def load_minst_iter(batch_size):\n",
    "    mnist_train = torchvision.datasets.FashionMNIST(root='~/Dataset/FashionMnist',train=True, download=True,transform=transforms.ToTensor())\n",
    "    mnist_test = torchvision.datasets.FashionMNIST(root='~/Dataset/FashionMnit', train=False, download=True,transform=transforms.ToTensor())\n",
    "    train_iter = torch.utils.data.DataLoader(mnist_train, batch_size=batch_size, shuffle=True, num_workers=0)\n",
    "    test_iter = torch.utils.data.DataLoader(mnist_test, batch_size=batch_size, shuffle=True, num_workers=0)\n",
    "    return train_iter, test_iter"
   ]
  },
  {
   "cell_type": "code",
   "execution_count": 3,
   "metadata": {},
   "outputs": [],
   "source": [
    "# 图片显示\n",
    "def show_mnist_fashion(image,label):\n",
    "    _, fig = plt.subplots(1, len(image), figsize=(12,12))\n",
    "    for p, img, lab  in zip(fig, image, label):\n",
    "        p.imshow(img.view((28,28)).numpy())\n",
    "        p.set_title(lab)\n",
    "        p.axes.get_xaxis().set_visible(False)\n",
    "        p.axes.get_yaxis().set_visible(False)\n",
    "    plt.show()"
   ]
  },
  {
   "cell_type": "code",
   "execution_count": 83,
   "metadata": {},
   "outputs": [],
   "source": [
    "# 获取数据\n",
    "batch_size=256\n",
    "train_iter,test_iter = load_minst_iter(batch_size)"
   ]
  },
  {
   "cell_type": "code",
   "execution_count": 5,
   "metadata": {},
   "outputs": [],
   "source": [
    "# 初始化模型参数\n",
    "num_inputs = 28*28\n",
    "num_outputs = 10"
   ]
  },
  {
   "cell_type": "code",
   "execution_count": 51,
   "metadata": {},
   "outputs": [],
   "source": [
    "w = torch.normal(0, 0.01, (num_inputs,num_outputs), dtype=torch.float32, requires_grad=True)\n",
    "b = torch.zeros((num_outputs,), dtype=torch.float32, requires_grad=True)"
   ]
  },
  {
   "cell_type": "code",
   "execution_count": 14,
   "metadata": {},
   "outputs": [
    {
     "data": {
      "text/plain": [
       "tensor([[16],\n",
       "        [15]])"
      ]
     },
     "execution_count": 14,
     "metadata": {},
     "output_type": "execute_result"
    }
   ],
   "source": [
    "# test\n",
    "x  =torch.tensor([[1,12,3],\n",
    "                  [4,5,6]])\n",
    "x.sum(dim=1,keepdim=True)"
   ]
  },
  {
   "cell_type": "code",
   "execution_count": 84,
   "metadata": {},
   "outputs": [],
   "source": [
    "# 将输出转换为概率 ，用于交叉熵计算（即每行之和为1的，这样概率最大的就是最后结果）\n",
    "def softmax(X):\n",
    "    x_exp = X.exp()\n",
    "    parttiton = X.exp().sum(dim=1, keepdim=True)\n",
    "    return x_exp / parttiton"
   ]
  },
  {
   "cell_type": "code",
   "execution_count": 31,
   "metadata": {},
   "outputs": [
    {
     "data": {
      "text/plain": [
       "(torch.float32,\n",
       " tensor([[0.1531, 0.8498, 0.2085, 0.9560],\n",
       "         [0.7365, 0.2002, 0.1876, 0.3164],\n",
       "         [0.8608, 0.2475, 0.8811, 0.9252],\n",
       "         [0.4035, 0.5645, 0.4614, 0.4490],\n",
       "         [0.1063, 0.1919, 0.3056, 0.4397]]))"
      ]
     },
     "execution_count": 31,
     "metadata": {},
     "output_type": "execute_result"
    }
   ],
   "source": [
    "test_x = torch.rand((5,4),dtype=torch.float32)\n",
    "test_x.dtype,test_x"
   ]
  },
  {
   "cell_type": "code",
   "execution_count": 32,
   "metadata": {},
   "outputs": [
    {
     "data": {
      "text/plain": [
       "(tensor([[0.1588, 0.3188, 0.1679, 0.3545],\n",
       "         [0.3547, 0.2075, 0.2049, 0.2330],\n",
       "         [0.2756, 0.1492, 0.2812, 0.2939],\n",
       "         [0.2336, 0.2744, 0.2475, 0.2445],\n",
       "         [0.2125, 0.2315, 0.2594, 0.2966]]),\n",
       " tensor([1.0000, 1.0000, 1.0000, 1.0000, 1.0000]))"
      ]
     },
     "execution_count": 32,
     "metadata": {},
     "output_type": "execute_result"
    }
   ],
   "source": [
    "test_y = softmax(test_x)\n",
    "test_y,test_y.sum(dim=1)"
   ]
  },
  {
   "cell_type": "code",
   "execution_count": 30,
   "metadata": {},
   "outputs": [],
   "source": [
    "# 定义模型\n",
    "def net(X,w,b):\n",
    "    input = X.view(-1,num_inputs)\n",
    "    return softmax( torch.mm(input, w) + b )"
   ]
  },
  {
   "cell_type": "code",
   "execution_count": 76,
   "metadata": {},
   "outputs": [],
   "source": [
    "# 定义交叉熵损失函数\n",
    "# 这里和交叉熵的公式区别在于：这里用gather函数之选了 y对应的y_hat概率值\n",
    "def cross_entropy(y_hat, y):\n",
    "    y_hat = softmax(y_hat)\n",
    "    return -torch.log(y_hat.gather(1,y.view(-1,1)))  # gather 收集输入的特定维度指定位置的数值"
   ]
  },
  {
   "cell_type": "code",
   "execution_count": 10,
   "metadata": {},
   "outputs": [],
   "source": [
    "# 计算准确率\n",
    "def accuracy(y_hat, y):\n",
    "    return (y.hat.argmax(dim=1)==y).float().mean().item()    # 也可以写成 ( (y_hat.argmax(dim=1) == y).sum() / len(y) ).item()"
   ]
  },
  {
   "cell_type": "code",
   "execution_count": 85,
   "metadata": {},
   "outputs": [
    {
     "ename": "RuntimeError",
     "evalue": "exp_vml_cpu not implemented for 'Long'",
     "output_type": "error",
     "traceback": [
      "\u001b[1;31m---------------------------------------------------------------------------\u001b[0m",
      "\u001b[1;31mRuntimeError\u001b[0m                              Traceback (most recent call last)",
      "\u001b[1;32m<ipython-input-85-bb6eaa71d7b1>\u001b[0m in \u001b[0;36m<module>\u001b[1;34m\u001b[0m\n\u001b[0;32m      2\u001b[0m                            [0.5, 0.8, 0.4]])\n\u001b[0;32m      3\u001b[0m \u001b[0mtest_y\u001b[0m \u001b[1;33m=\u001b[0m \u001b[0mtorch\u001b[0m\u001b[1;33m.\u001b[0m\u001b[0mtensor\u001b[0m\u001b[1;33m(\u001b[0m\u001b[1;33m[\u001b[0m\u001b[1;36m2\u001b[0m\u001b[1;33m,\u001b[0m\u001b[1;36m2\u001b[0m\u001b[1;33m]\u001b[0m\u001b[1;33m)\u001b[0m\u001b[1;33m\u001b[0m\u001b[1;33m\u001b[0m\u001b[0m\n\u001b[1;32m----> 4\u001b[1;33m \u001b[0mtest_y\u001b[0m \u001b[1;33m=\u001b[0m \u001b[0msoftmax\u001b[0m\u001b[1;33m(\u001b[0m\u001b[0mtest_y\u001b[0m\u001b[1;33m)\u001b[0m\u001b[1;33m\u001b[0m\u001b[1;33m\u001b[0m\u001b[0m\n\u001b[0m",
      "\u001b[1;32m<ipython-input-84-23f483dc6d18>\u001b[0m in \u001b[0;36msoftmax\u001b[1;34m(X)\u001b[0m\n\u001b[0;32m      1\u001b[0m \u001b[1;31m# 将输出转换为概率 ，用于交叉熵计算（即每行之和为1的，这样概率最大的就是最后结果）\u001b[0m\u001b[1;33m\u001b[0m\u001b[1;33m\u001b[0m\u001b[1;33m\u001b[0m\u001b[0m\n\u001b[0;32m      2\u001b[0m \u001b[1;32mdef\u001b[0m \u001b[0msoftmax\u001b[0m\u001b[1;33m(\u001b[0m\u001b[0mX\u001b[0m\u001b[1;33m)\u001b[0m\u001b[1;33m:\u001b[0m\u001b[1;33m\u001b[0m\u001b[1;33m\u001b[0m\u001b[0m\n\u001b[1;32m----> 3\u001b[1;33m     \u001b[0mx_exp\u001b[0m \u001b[1;33m=\u001b[0m \u001b[0mX\u001b[0m\u001b[1;33m.\u001b[0m\u001b[0mexp\u001b[0m\u001b[1;33m(\u001b[0m\u001b[1;33m)\u001b[0m\u001b[1;33m\u001b[0m\u001b[1;33m\u001b[0m\u001b[0m\n\u001b[0m\u001b[0;32m      4\u001b[0m     \u001b[0mparttiton\u001b[0m \u001b[1;33m=\u001b[0m \u001b[0mX\u001b[0m\u001b[1;33m.\u001b[0m\u001b[0mexp\u001b[0m\u001b[1;33m(\u001b[0m\u001b[1;33m)\u001b[0m\u001b[1;33m.\u001b[0m\u001b[0msum\u001b[0m\u001b[1;33m(\u001b[0m\u001b[0mdim\u001b[0m\u001b[1;33m=\u001b[0m\u001b[1;36m1\u001b[0m\u001b[1;33m,\u001b[0m \u001b[0mkeepdim\u001b[0m\u001b[1;33m=\u001b[0m\u001b[1;32mTrue\u001b[0m\u001b[1;33m)\u001b[0m\u001b[1;33m\u001b[0m\u001b[1;33m\u001b[0m\u001b[0m\n\u001b[0;32m      5\u001b[0m     \u001b[1;32mreturn\u001b[0m \u001b[0mx_exp\u001b[0m \u001b[1;33m/\u001b[0m \u001b[0mparttiton\u001b[0m\u001b[1;33m\u001b[0m\u001b[1;33m\u001b[0m\u001b[0m\n",
      "\u001b[1;31mRuntimeError\u001b[0m: exp_vml_cpu not implemented for 'Long'"
     ]
    }
   ],
   "source": [
    "test_y_hat = torch.tensor([[0.1, 0.3, 0.8],\n",
    "                           [0.5, 0.8, 0.4]])\n",
    "test_y = torch.tensor([2,2])\n",
    "test_y = softmax(test_y)"
   ]
  },
  {
   "cell_type": "code",
   "execution_count": 33,
   "metadata": {},
   "outputs": [
    {
     "name": "stdout",
     "output_type": "stream",
     "text": [
      "tensor([ True, False])\n",
      "0.5\n"
     ]
    }
   ],
   "source": [
    "test_y_hat = torch.tensor([[0.1, 0.3, 0.8],\n",
    "                           [0.5, 0.8, 0.4]])\n",
    "test_y = torch.tensor([2,2])\n",
    "kk = test_y_hat.argmax(dim=1) == test_y\n",
    "print(kk)\n",
    "print( (kk.sum()/len(test_y)).item() )"
   ]
  },
  {
   "cell_type": "code",
   "execution_count": 52,
   "metadata": {},
   "outputs": [],
   "source": [
    "# 定义模型 在数据集上的准确率\n",
    "def evaluate_accuracy(data_iter, net):\n",
    "    acc_num, n = 0.0, 0\n",
    "    for X, y in data_iter:\n",
    "        acc_num += (net(X,w,b).argmax(dim=1) == y).float().sum().item()\n",
    "        n += y.shape[0]\n",
    "        return acc_num / n"
   ]
  },
  {
   "cell_type": "code",
   "execution_count": null,
   "metadata": {},
   "outputs": [],
   "source": []
  },
  {
   "cell_type": "code",
   "execution_count": 59,
   "metadata": {},
   "outputs": [
    {
     "name": "stdout",
     "output_type": "stream",
     "text": [
      "0.0859375\n"
     ]
    }
   ],
   "source": [
    "train_iter, test_iter = load_minst_iter(256)\n",
    "print(evaluate_accuracy(train_iter, net))"
   ]
  },
  {
   "cell_type": "code",
   "execution_count": 60,
   "metadata": {},
   "outputs": [],
   "source": [
    "def sgd(params, lr, batch_size):\n",
    "    for param in params:\n",
    "        param.data -= lr * param.grad / batch_size"
   ]
  },
  {
   "cell_type": "code",
   "execution_count": 61,
   "metadata": {},
   "outputs": [],
   "source": [
    "# 训练模型\n",
    "def train_ch3(model, train_iter, test_iter, loss, num_epochs, batch_size, params=None, lr=None, optimizer=None):\n",
    "    for epoch in range(num_epochs):\n",
    "        train_loss_sum, train_acc_sum ,n= 0.0, 0.0, 0\n",
    "        for X,y in train_iter:\n",
    "            y_hat = model(X, w, b)\n",
    "            l = loss(y_hat, y).sum()\n",
    "            # 梯度清零\n",
    "            if optimizer is not None:\n",
    "                optimizer.zero_grad()\n",
    "            elif params is not None and params[0].grad is not None:\n",
    "                for param in params:\n",
    "                    param.grad.data.zero_()\n",
    "   \n",
    "\n",
    "            l.backward()\n",
    "            \n",
    "            if optimizer is not None:\n",
    "                optimizer.step()\n",
    "            else:\n",
    "                sgd(params, lr, batch_size)\n",
    "            \n",
    "            train_loss_sum += l.item()\n",
    "            train_acc_sum += (y_hat.argmax(dim=1)==y).sum().item()\n",
    "            n += y.shape[0]\n",
    "        test_acc = evaluate_accuracy(test_iter,model)\n",
    "        print('num_epochs %d, loss %.4f, train acc %.3f, test acc %.3f'% (epoch + 1, train_loss_sum / n, train_acc_sum / n, test_acc))\n",
    "                \n",
    "                \n",
    "            "
   ]
  },
  {
   "cell_type": "code",
   "execution_count": 62,
   "metadata": {},
   "outputs": [
    {
     "name": "stdout",
     "output_type": "stream",
     "text": [
      "num_epochs 1, loss 1.0325, train acc 0.695, test acc 0.742\n",
      "num_epochs 2, loss 0.7082, train acc 0.777, test acc 0.719\n",
      "num_epochs 3, loss 0.6366, train acc 0.798, test acc 0.805\n",
      "num_epochs 4, loss 0.5975, train acc 0.809, test acc 0.777\n",
      "num_epochs 5, loss 0.5716, train acc 0.816, test acc 0.797\n",
      "num_epochs 6, loss 0.5531, train acc 0.820, test acc 0.809\n",
      "num_epochs 7, loss 0.5387, train acc 0.824, test acc 0.766\n",
      "num_epochs 8, loss 0.5270, train acc 0.828, test acc 0.816\n",
      "num_epochs 9, loss 0.5176, train acc 0.830, test acc 0.820\n",
      "num_epochs 10, loss 0.5096, train acc 0.832, test acc 0.844\n"
     ]
    }
   ],
   "source": [
    "model=net\n",
    "num_epochs=10\n",
    "lr = 0.03\n",
    "batch_size=256\n",
    "loss=cross_entropy\n",
    "train_ch3(model, train_iter, test_iter, loss, num_epochs, batch_size, [w, b], lr)"
   ]
  },
  {
   "cell_type": "code",
   "execution_count": 75,
   "metadata": {},
   "outputs": [
    {
     "data": {
      "image/png": "[encoded data removed]",
      "text/plain": [
       "<Figure size 864x864 with 8 Axes>"
      ]
     },
     "metadata": {
      "needs_background": "light"
     },
     "output_type": "display_data"
    }
   ],
   "source": [
    "# 预测\n",
    "test_labels =  ['t-shirt', 'trouser', 'pullover', 'dress', 'coat', 'sandal', 'shirt', 'sneaker', 'bag', 'ankle boot']\n",
    "X, y = iter(test_iter).next()\n",
    "\n",
    "true_lable = [test_labels[i] for i in y]\n",
    "pred_lable = [test_labels[i] for i in net(X,w,b).argmax(dim=1).numpy()]\n",
    "titles = [true +' ' + pred for true, pred in zip(true_lable, pred_lable)]\n",
    "show_mnist_fashion(X[0:8],titles[0:8])"
   ]
  }
 ],
 "metadata": {
  "kernelspec": {
   "display_name": "Python [conda env:pytorch]",
   "language": "python",
   "name": "conda-env-pytorch-py"
  },
  "language_info": {
   "codemirror_mode": {
    "name": "ipython",
    "version": 3
   },
   "file_extension": ".py",
   "mimetype": "text/x-python",
   "name": "python",
   "nbconvert_exporter": "python",
   "pygments_lexer": "ipython3",
   "version": "3.7.9"
  }
 },
 "nbformat": 4,
 "nbformat_minor": 4
}
