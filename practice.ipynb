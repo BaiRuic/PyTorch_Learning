{
 "cells": [
  {
   "cell_type": "code",
   "execution_count": 56,
   "metadata": {},
   "outputs": [],
   "source": [
    "import torch\n",
    "import numpy as np\n",
    "import matplotlib.pyplot as plt\n",
    "%matplotlib inline\n",
    "import random"
   ]
  },
  {
   "cell_type": "code",
   "execution_count": 53,
   "metadata": {},
   "outputs": [],
   "source": [
    "# 构造数据\n",
    "num_example = 1000\n",
    "num_input = 2\n",
    "true_w = torch.tensor([2.45,-3.41],dtype=torch.float32,requires_grad=False)\n",
    "true_b = torch.tensor(5,dtype =torch.float32)\n",
    "\n",
    "features = torch.randn(size=(num_example, num_input), dtype=torch.float32)\n",
    "labels = features.mv(true_w) + true_b + torch.normal(0, 0.01, (num_example,))"
   ]
  },
  {
   "cell_type": "code",
   "execution_count": 54,
   "metadata": {},
   "outputs": [
    {
     "data": {
      "text/plain": [
       "(torch.Size([1000, 2]), torch.Size([1000]))"
      ]
     },
     "execution_count": 54,
     "metadata": {},
     "output_type": "execute_result"
    }
   ],
   "source": [
    "features.shape, labels.shape"
   ]
  },
  {
   "cell_type": "code",
   "execution_count": 55,
   "metadata": {},
   "outputs": [
    {
     "data": {
      "text/plain": [
       "<matplotlib.collections.PathCollection at 0x2b90b4cd448>"
      ]
     },
     "execution_count": 55,
     "metadata": {},
     "output_type": "execute_result"
    },
    {
     "data": {
      "image/png": "[encoded data removed]",
      "text/plain": [
       "<Figure size 432x288 with 1 Axes>"
      ]
     },
     "metadata": {
      "needs_background": "light"
     },
     "output_type": "display_data"
    }
   ],
   "source": [
    "plt.scatter(features[:,0], labels, 4)\n",
    "plt.scatter(features[:,1], labels, 4)"
   ]
  },
  {
   "cell_type": "code",
   "execution_count": 117,
   "metadata": {},
   "outputs": [],
   "source": [
    "## 定义损失函数\n",
    "def loss(y_hat, y):\n",
    "    return (y_hat - y.view(y_hat.shape)) **2 / 2"
   ]
  },
  {
   "cell_type": "code",
   "execution_count": 91,
   "metadata": {},
   "outputs": [],
   "source": [
    "def model(X,w,b):\n",
    "    return torch.mm(X, w) + b"
   ]
  },
  {
   "cell_type": "code",
   "execution_count": 81,
   "metadata": {},
   "outputs": [],
   "source": [
    "def iter_data(X,y,batch_size):\n",
    "    indices = list(np.arange(0,num_example))\n",
    "    random.shuffle(indices)\n",
    "    for i in range(0, num_example, batch_size):\n",
    "        index = torch.LongTensor(indices[i: min(num_example,i+batch_size)])\n",
    "        yield X.index_select(0, index), y.index_select(0, index)"
   ]
  },
  {
   "cell_type": "code",
   "execution_count": 82,
   "metadata": {},
   "outputs": [
    {
     "name": "stdout",
     "output_type": "stream",
     "text": [
      "tensor([[ 0.9332, -0.6821],\n",
      "        [ 1.1475,  0.2117],\n",
      "        [-0.7237,  1.2996],\n",
      "        [-1.4737, -0.2237],\n",
      "        [-0.3336,  0.2304],\n",
      "        [-0.2843, -2.6845],\n",
      "        [-0.4637, -0.5457],\n",
      "        [ 1.1343, -0.5492],\n",
      "        [ 0.5478,  0.1936],\n",
      "        [ 1.3239, -0.2233]]) tensor([ 9.6139,  7.0748, -1.2032,  2.1655,  3.3975, 13.4586,  5.7378,  9.6609,\n",
      "         5.6857,  9.0056])\n"
     ]
    }
   ],
   "source": [
    "# test\n",
    "for X,y in iter_data(features,labels,10):\n",
    "    print(X,y)\n",
    "    break"
   ]
  },
  {
   "cell_type": "code",
   "execution_count": 83,
   "metadata": {},
   "outputs": [],
   "source": [
    "def sgd(params, lr, batch_size):\n",
    "    for param in params:\n",
    "        param.data -= lr * param.grad / batch_size"
   ]
  },
  {
   "cell_type": "code",
   "execution_count": 122,
   "metadata": {},
   "outputs": [
    {
     "name": "stdout",
     "output_type": "stream",
     "text": [
      "epoch: 6, loss:76.553909\n",
      "epoch: 6, loss:0.368697\n",
      "epoch: 6, loss:0.052033\n",
      "epoch: 6, loss:0.050422\n",
      "epoch: 6, loss:0.050352\n"
     ]
    }
   ],
   "source": [
    "w = torch.normal(0, 0.01, (num_input, 1), dtype=torch.float32, requires_grad=True)\n",
    "b = torch.zeros((1,), dtype=torch.float32, requires_grad=True)\n",
    "batch_size = 10\n",
    "epochs = 5\n",
    "lr = 0.03\n",
    "for i in range(epochs):\n",
    "    for X,y in iter_data(features,labels,batch_size):\n",
    "        y_hat = model(X,w,b)\n",
    "        l = loss(y_hat,y).sum()\n",
    "        l.backward()\n",
    "        sgd([w,b], lr, batch_size)\n",
    "        w.grad.data.zero_()\n",
    "        b.grad.data.zero_()\n",
    "    train_loss = loss(model(features,w,b),labels).sum()\n",
    "    print('epoch: %d, loss:%f' %(epochs+1, train_loss))b\n",
    "    "
   ]
  },
  {
   "cell_type": "code",
   "execution_count": 125,
   "metadata": {},
   "outputs": [
    {
     "name": "stdout",
     "output_type": "stream",
     "text": [
      "tensor([[ 2.4496],\n",
      "        [-3.4100]], requires_grad=True) tensor([ 2.4500, -3.4100])\n",
      "tensor([5.0002], requires_grad=True) tensor(5.)\n"
     ]
    }
   ],
   "source": [
    "print(w,true_w)\n",
    "print(b,true_b)"
   ]
  }
 ],
 "metadata": {
  "kernelspec": {
   "display_name": "Python [conda env:pytorch]",
   "language": "python",
   "name": "conda-env-pytorch-py"
  },
  "language_info": {
   "codemirror_mode": {
    "name": "ipython",
    "version": 3
   },
   "file_extension": ".py",
   "mimetype": "text/x-python",
   "name": "python",
   "nbconvert_exporter": "python",
   "pygments_lexer": "ipython3",
   "version": "3.7.9"
  }
 },
 "nbformat": 4,
 "nbformat_minor": 4
}
